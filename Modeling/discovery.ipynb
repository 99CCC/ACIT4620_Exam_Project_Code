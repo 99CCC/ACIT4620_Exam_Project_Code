{
 "cells": [
  {
   "cell_type": "markdown",
   "id": "d25ab2e8-1aff-4e7d-a360-bdf2580cea6e",
   "metadata": {},
   "source": [
    "###Discovery Workbook\n",
    "This workbook will be used to probe given datasets from extraction phase"
   ]
  }
 ],
 "metadata": {
  "kernelspec": {
   "display_name": "Python 3 (ipykernel)",
   "language": "python",
   "name": "python3"
  },
  "language_info": {
   "codemirror_mode": {
    "name": "ipython",
    "version": 3
   },
   "file_extension": ".py",
   "mimetype": "text/x-python",
   "name": "python",
   "nbconvert_exporter": "python",
   "pygments_lexer": "ipython3",
   "version": "3.12.6"
  }
 },
 "nbformat": 4,
 "nbformat_minor": 5
}
